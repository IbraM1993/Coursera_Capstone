{
 "cells": [
  {
   "cell_type": "markdown",
   "metadata": {},
   "source": [
    "<h1 align=center><font size = 5>Capstone Project - Car Accident Severity (Week 1)</font></h1>"
   ]
  },
  {
   "cell_type": "markdown",
   "metadata": {},
   "source": [
    "## Table of Contents\n",
    "* [Introduction: Business Problem](#introduction)\n",
    "* [Data](#data)\n",
    "* [Methodology](#methodology)\n",
    "* [Analysis](#analysis)\n",
    "* [Results and Discussion](#results_and_discussion)\n",
    "* [Concluison](#conclusion)"
   ]
  },
  {
   "cell_type": "markdown",
   "metadata": {},
   "source": [
    "<a name=\"introduction\"></a>"
   ]
  },
  {
   "cell_type": "markdown",
   "metadata": {},
   "source": [
    "## Introduction: Business Problem"
   ]
  },
  {
   "cell_type": "markdown",
   "metadata": {},
   "source": [
    "Driving cars is a part of our lives in modern societies. It is true that public transportation, as well as alternative transportation methods, are available. However, a large number of people would prefer owning a car since it gives them better control over their time and provides them with much more liberty and autonomy, not to mention that a car is faster than a bike for example.  \n",
    "    \n",
    "Nevertheless, car accidents is a problem that needs to be addressed: it is a major cause of death. For instance, car crashes is a leading cause of death in the U.S. Materialistic loss is not the important thing here, but people's lives and the emotional impact of a loved one's death are.\n",
    "  \n",
    "In this project, we aim to leverage the power of Machine Learning, more specifically calssification algorithms (KNN, SVM, Random Forest) since we are facing a classification problem, to predict cars accident severity, based on the data in hand. This work will offer insights on how to drive safely. Also, it will help responsilbe parties to better handle this issue and reduce car crash rates."
   ]
  },
  {
   "cell_type": "markdown",
   "metadata": {},
   "source": [
    "<a name=\"data\"></a>"
   ]
  },
  {
   "cell_type": "markdown",
   "metadata": {},
   "source": [
    "## Data"
   ]
  },
  {
   "cell_type": "markdown",
   "metadata": {},
   "source": [
    "For now, we will mainly use the Data-Collisions.csv provided in the course. We could take advantage of many available attributes: ADDRTYPE to determine whether accidents are more severe at an intersection than in a block or an alley, PERSONCOUNT to see if the number of persons in an accident affects the accident's severity, as well as other attributes that we believe it will affect an accident's severity such as WEATHER, ROADCOND, LIGHTCOND, etc...  \n",
    "\n",
    "However, a description for the provided dataset was not found. Hence, it might be a little troubling to understand, especially with the time constraints. Hence, we might choose a different dataset that is less complex but with enough data to handle the problem in hand."
   ]
  }
 ],
 "metadata": {
  "kernelspec": {
   "display_name": "Python 3",
   "language": "python",
   "name": "python3"
  },
  "language_info": {
   "codemirror_mode": {
    "name": "ipython",
    "version": 3
   },
   "file_extension": ".py",
   "mimetype": "text/x-python",
   "name": "python",
   "nbconvert_exporter": "python",
   "pygments_lexer": "ipython3",
   "version": "3.7.1"
  }
 },
 "nbformat": 4,
 "nbformat_minor": 2
}
